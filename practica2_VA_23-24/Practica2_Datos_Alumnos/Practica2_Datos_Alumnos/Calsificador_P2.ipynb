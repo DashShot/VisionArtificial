{
 "cells": [
  {
   "cell_type": "code",
   "execution_count": 6,
   "metadata": {},
   "outputs": [],
   "source": [
    "\n",
    "import argparse\n",
    "\n",
    "#import panel_det\n",
    "import matplotlib.pyplot as plt\n",
    "import cv2\n",
    "import numpy as np\n",
    "import sklearn\n",
    "\n",
    "import os\n"
   ]
  },
  {
   "cell_type": "markdown",
   "metadata": {},
   "source": [
    "2.1 Ejercicio1: Entrenamiento y validación del clasificador de caracteres"
   ]
  },
  {
   "cell_type": "markdown",
   "metadata": {},
   "source": [
    "     Cargar y umbralizar las imágenes de los caracteres de entrenamiento (por ejemplo,\n",
    "    cv2.adaptiveThreshold + cv2.findContours + cv2.boundingRect). Este proceso (umbralización\n",
    "    + findContours) habrá que hacerlo también en las imágenes de los paneles reales. De esta\n",
    "    manera el clasificador verá el mismo tipo de imágenes en entrenamiento y pruebas reales."
   ]
  },
  {
   "cell_type": "code",
   "execution_count": 10,
   "metadata": {},
   "outputs": [],
   "source": [
    "images_dict = './train_ocr'\n",
    "\n",
    "# Load images\n",
    "images = []\n",
    "for filename in os.listdir(images_dict):\n",
    "    image_path = os.path.join(images_dict, filename)\n",
    "    image = cv2.imread(image_path, cv2.IMREAD_GRAYSCALE)\n",
    "    images.append(image)\n",
    "\n",
    "# Threshold images\n",
    "thresholded_images = []\n",
    "for image in images:\n",
    "     _, thresholded_image = cv2.threshold(image, 0, 255, cv2.THRESH_BINARY + cv2.THRESH_OTSU)\n",
    "     thresholded_images.append(thresholded_image)      \n",
    "\n"
   ]
  },
  {
   "cell_type": "code",
   "execution_count": 11,
   "metadata": {},
   "outputs": [
    {
     "name": "stdout",
     "output_type": "stream",
     "text": [
      "Error loading image: ./train_ocr/6\n",
      "Error loading image: ./train_ocr/9\n",
      "Error loading image: ./train_ocr/4\n",
      "Error loading image: ./train_ocr/0\n",
      "Error loading image: ./train_ocr/2\n",
      "Error loading image: ./train_ocr/7\n",
      "Error loading image: ./train_ocr/minúsculas\n",
      "Error loading image: ./train_ocr/1\n",
      "Error loading image: ./train_ocr/5\n",
      "Error loading image: ./train_ocr/mayúsculas\n",
      "Error loading image: ./train_ocr/3\n",
      "Error loading image: ./train_ocr/8\n"
     ]
    }
   ],
   "source": [
    "import cv2\n",
    "import numpy as np\n",
    "\n",
    "def load_and_preprocess_images(images_dict='./train_ocr'):\n",
    "    \"\"\"\n",
    "    Loads grayscale images from a directory, applies adaptive thresholding,\n",
    "    finds contours and bounding rectangles, and resizes the cropped character images\n",
    "    to a fixed size.\n",
    "\n",
    "    Args:\n",
    "        images_dict (str, optional): Path to the directory containing images.\n",
    "            Defaults to './train_ocr'.\n",
    "\n",
    "    Returns:\n",
    "        list: List of preprocessed character images.\n",
    "    \"\"\"\n",
    "\n",
    "#--------------------------------------------------------------------------------------------------------\n",
    "\n",
    "    preprocessed_images = []\n",
    "\n",
    "    for filename in os.listdir(images_dict):\n",
    "        image_path = os.path.join(images_dict, filename)\n",
    "        image = cv2.imread(image_path, cv2.IMREAD_GRAYSCALE)\n",
    "\n",
    "        # Error handling (optional): Check if image is loaded successfully\n",
    "        if image is None:\n",
    "            print(f\"Error loading image: {image_path}\")\n",
    "            continue\n",
    "\n",
    "        # Apply adaptive thresholding\n",
    "        _, thresholded_image = cv2.threshold(image, 0, 255, cv2.THRESH_BINARY + cv2.THRESH_OTSU)\n",
    "\n",
    "        # Find contours and bounding rectangles\n",
    "        contours, _ = cv2.findContours(thresholded_image, cv2.RETR_EXTERNAL, cv2.CHAIN_APPROX_SIMPLE)\n",
    "\n",
    "        for contour in contours:\n",
    "            # Get bounding rectangle coordinates\n",
    "            x, y, w, h = cv2.boundingRect(contour)\n",
    "\n",
    "            # Crop the character image using the bounding rectangle\n",
    "            cropped_image = image[y:y + h, x:x + w]\n",
    "\n",
    "            # Resize the cropped image to a fixed size (e.g., 25x25 pixels)\n",
    "            resized_image = cv2.resize(cropped_image, (25, 25), interpolation=cv2.INTERAREA)\n",
    "\n",
    "            # Convert the resized image to a flattened 1D array with values between 0 and 255\n",
    "            feature_vector = resized_image.flatten() / 255\n",
    "\n",
    "            # Append the feature vector to the list of preprocessed images\n",
    "            preprocessed_images.append(feature_vector)\n",
    "\n",
    "    return preprocessed_images\n",
    "\n",
    "#--------------------------------------------------------------------------------\n",
    "\n",
    "if __name__ == \"__main__\":\n",
    "    # Load and preprocess training character images\n",
    "    train_images = load_and_preprocess_images()\n",
    "\n",
    "    # ... (Your code for extracting and classifying characters from real panels)\n"
   ]
  }
 ],
 "metadata": {
  "kernelspec": {
   "display_name": "Python 3",
   "language": "python",
   "name": "python3"
  },
  "language_info": {
   "codemirror_mode": {
    "name": "ipython",
    "version": 3
   },
   "file_extension": ".py",
   "mimetype": "text/x-python",
   "name": "python",
   "nbconvert_exporter": "python",
   "pygments_lexer": "ipython3",
   "version": "3.10.12"
  }
 },
 "nbformat": 4,
 "nbformat_minor": 2
}
